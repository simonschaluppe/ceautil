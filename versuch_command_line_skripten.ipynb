{
 "cells": [
  {
   "cell_type": "code",
   "execution_count": null,
   "metadata": {},
   "outputs": [
    {
     "name": "stdout",
     "output_type": "stream",
     "text": [
      "usage: cea SCRIPT [OPTIONS]\n",
      "       to run a specific script\n",
      "usage: cea --help SCRIPT\n",
      "       to get additional help specific to a script\n",
      "\n",
      "SCRIPT can be one of:\n",
      "[Data management]:  archetypes-mapper, streets-helper,\n",
      "    surroundings-helper, terrain-helper, trees-helper, weather-helper\n",
      "[Demand forecasting]:  demand, radiation, radiation-simplified,\n",
      "    schedule-maker\n",
      "[Energy potentials]:  photovoltaic, photovoltaic-thermal,\n",
      "    sewage-potential, shallow-geothermal-potential, solar-collector,\n",
      "    water-body-potential\n",
      "[Life cycle analysis]:  emissions, system-costs\n",
      "[Networks]:  network-layout, thermal-network\n",
      "[Optimization]:  decentralized, optimization-new,\n",
      "    thermal-network-optimization\n",
      "[Utilities]:  batch-process-workflow, create-mixed-use-type,\n",
      "    data-initializer, data-migrator, dbf-to-csv-to-dbf,\n",
      "    rename-building, run-all-plots, run-unit-tests,\n",
      "    sensitivity-analysis-sampler, shp-to-csv-to-shp, test\n",
      "[default]:  compile, create-polygon, dashboard, excel-to-shapefile,\n",
      "    extract-reference-case, list-demand-graphs-fields,\n",
      "    multi-criteria-analysis, shapefile-to-excel, trace-inputlocator,\n",
      "    workflow, zone-helper\n"
     ]
    }
   ],
   "source": [
    "!cea --help "
   ]
  },
  {
   "cell_type": "markdown",
   "metadata": {},
   "source": [
    "hey, here i will try to describe each step to get to a non-stop simulation of multiple scenarios.\n",
    "for now there will be a lot of manual steps and procedures; they will be made obsolet step by step"
   ]
  },
  {
   "cell_type": "markdown",
   "metadata": {},
   "source": [
    "Start by having a Base Scenario\n",
    "for example: C:\\Users\\ma0026.NB-MA0026\\Documents\\CEA_Projekte\\gebaeudemodelle\\Seestadt_Reihe"
   ]
  },
  {
   "cell_type": "markdown",
   "metadata": {},
   "source": [
    "simple functions necessary to get to a demand simulation, each with the available inputs\n",
    "\n",
    "--archetypes-mapper\\\n",
    "--scenario C:\\Users\\ma0026.NB-MA0026\\Documents\\CEA_Projekte\\gebaeudemodelle\\Seestadt_Reihe\\\n",
    "--input-databases ['comfort', 'architecture', 'air-conditioning', 'internal-loads', 'supply', 'schedules']\\\n",
    "--buildings []\n"
   ]
  },
  {
   "cell_type": "markdown",
   "metadata": {},
   "source": [
    "--radiation\\\n",
    "--scenario C:\\Users\\ma0026.NB-MA0026\\Documents\\CEA_Projekte\\gebaeudemodelle\\Seestadt_Reihe\\\n",
    "--multiprocessing True\\\n",
    "--number-of-cpus-to-keep-free 1\\\n",
    "--debug False\\\n",
    "--buildings []\\\n",
    "--use-latest-daysim-binaries True\\\n",
    "--albedo 0.2\\\n",
    "--roof-grid: 10\\\n",
    "--walls-grid: 200\\\n",
    "--zone-geometry: 2.0\\\n",
    "--surrounding-geometry: 5.0\\\n",
    "--consider-floors: True\\\n",
    "--neglect-adjacent-buildings: False\\\n",
    "--rad-ab: 4\\\n",
    "--rad-ad: 512\\\n",
    "--rad-as: 32\\\n",
    "--rad-ar: 20\\\n",
    "--rad-aa: 0.15\\\n",
    "--rad-lr: 8\\\n",
    "--rad-st: 0.5\\\n",
    "--rad-sj: 0.7\\\n",
    "--rad-lw: 0.05\\\n",
    "--rad-dj: 0.7\\\n",
    "--rad-ds: 0.0\\\n",
    "--rad-dr: 0\\\n",
    "--rad-dp: 32\\\n",
    "--daysim-bin-directory:\n",
    "--n-buildings-in-chunk: 100\\\n",
    "--write-sensor-data: True"
   ]
  },
  {
   "cell_type": "markdown",
   "metadata": {},
   "source": [
    "--schedule-maker\\\n",
    "--scenario C:\\Users\\ma0026.NB-MA0026\\Documents\\CEA_Projekte\\gebaeudemodelle\\Seestadt_Reihe\\\n",
    "--multiprocessing True\\\n",
    "--number-of-cpus-to-keep-free 1\\\n",
    "--debug False\\\n",
    "--buildings []\\\n",
    "--schedule-model deterministic"
   ]
  },
  {
   "cell_type": "markdown",
   "metadata": {},
   "source": [
    "--demand\\\n",
    "--scenario: C:\\Users\\ma0026.NB-MA0026\\Documents\\CEA_Projekte\\gebaeudemodelle\\Seestadt_Reihe\n",
    "--multiprocessing: True\n",
    "--number-of-cpus-to-keep-free: 1\n",
    "--debug: False\n",
    "--buildings: []\n",
    "--loads-output: []\n",
    "--massflows-output: []\n",
    "--temperatures-output: []\n",
    "--resolution-output: hourly\n",
    "--use-dynamic-infiltration-calculation: False\n",
    "--overheating-warning: True"
   ]
  },
  {
   "cell_type": "markdown",
   "metadata": {},
   "source": [
    "hier Anmerkugn an mich selber!\n",
    "TRY Auswirkungen durch dynamic infiltration und overheating warning"
   ]
  },
  {
   "cell_type": "code",
   "execution_count": null,
   "metadata": {},
   "outputs": [],
   "source": [
    "#!cea --archetypes-mapper\n",
    "#!cea --radiation\n",
    "#!cea --schedule-maker\n",
    "#!cea --demand"
   ]
  },
  {
   "cell_type": "code",
   "execution_count": null,
   "metadata": {},
   "outputs": [],
   "source": []
  },
  {
   "cell_type": "code",
   "execution_count": null,
   "metadata": {},
   "outputs": [],
   "source": []
  },
  {
   "cell_type": "code",
   "execution_count": 12,
   "metadata": {},
   "outputs": [],
   "source": [
    "def run_cea_command(command):\n",
    "    \"\"\"Runs a given CEA command.\"\"\"\n",
    "    \n",
    "    # Command to execute the CEA command (assuming the environment is activated)\n",
    "    !cea {command}\n"
   ]
  },
  {
   "cell_type": "code",
   "execution_count": null,
   "metadata": {},
   "outputs": [],
   "source": [
    "def run_cea_schedule_maker(scenario):\n",
    "    !cea schedule-maker --scenario {scenario} --multiprocessing True --number-of-cpus-to-keep-free 1 --debug False --buildings [] --schedule-model deterministic\n",
    "\n",
    "def run_cea_archetypes_mapper(scenario):\n",
    "    !cea archetypes-mapper --scenario {scenario} --input-databases ['comfort', 'architecture', 'air-conditioning', 'internal-loads', 'supply', 'schedules'] --buildings []\n",
    "\n",
    "def run_cea_solar_radiation(scenario):\n",
    "    !cea radiation --scenario {scenario} --multiprocessing True --number-of-cpus-to-keep-free 1 --debug False --buildings [] --use-latest-daysim-binaries True --albedo 0.2\\\n",
    "    --roof-grid 10 --walls-grid 200 --zone-geometry 2.0 --surrounding-geometry 5.0 --consider-floors True --neglect-adjacent-buildings False --rad-ab 4 --rad-ad 512 --rad-as 32\\\n",
    "    --rad-ar 20 --rad-aa 0.15 --rad-lr 8 --rad-st 0.5 --rad-sj 0.7 --rad-lw 0.05 --rad-dj 0.7 --rad-ds 0.0 --rad-dr 0 --rad-dp 32 --daysim-bin-directory --n-buildings-in-chunk 100\\\n",
    "    --write-sensor-data True\n",
    "\n",
    "def run_cea_demand(scenario):\n",
    "    !cea demand --scenario {scenario} --multiprocessing True --number-of-cpus-to-keep-free 1 --debug False --buildings [] --loads-output [] --massflows-output [] --temperatures-output []\\\n",
    "    --resolution-output hourly --use-dynamic-infiltration-calculation False --overheating-warning True"
   ]
  },
  {
   "cell_type": "code",
   "execution_count": null,
   "metadata": {},
   "outputs": [],
   "source": []
  },
  {
   "cell_type": "code",
   "execution_count": null,
   "metadata": {},
   "outputs": [],
   "source": []
  },
  {
   "cell_type": "code",
   "execution_count": null,
   "metadata": {},
   "outputs": [],
   "source": [
    "def run_simulation_workflow(scenario_path, weather_file):\n",
    "    # Step 1: Set up and run archetypes-mapper\n",
    "    print(\"Running 'archetypes-mapper'...\")\n",
    "    run_cea_command_in_env(f\"archetypes-mapper --scenario={scenario_path}\")\n",
    "    \n",
    "    # Step 2: Run radiation and schedule-maker sequentially\n",
    "    print(\"Running 'radiation'...\")\n",
    "    run_cea_command_in_env(f\"radiation --scenario={scenario_path}\")\n",
    "    \n",
    "    print(\"Running 'schedule-maker'...\")\n",
    "    run_cea_command_in_env(f\"schedule-maker --scenario={scenario_path}\")\n",
    "    \n",
    "    # Step 3: Run the demand script after the others\n",
    "    print(\"Running 'demand'...\")\n",
    "    run_cea_command_in_env(f\"demand --scenario={scenario_path}\")\n",
    "\n",
    "# Example usage with a single scenario and weather file\n",
    "run_simulation_workflow(\"C:/scenario/baseline\", \"Zurich\")\n"
   ]
  },
  {
   "cell_type": "markdown",
   "metadata": {},
   "source": [
    "so werden neue typologys zugewiesen bzw. in \"neue\" scenarien geladen"
   ]
  },
  {
   "cell_type": "code",
   "execution_count": 42,
   "metadata": {},
   "outputs": [
    {
     "name": "stdout",
     "output_type": "stream",
     "text": [
      "City Energy Analyst version 3.38.0\n",
      "Running `cea dbf-to-csv-to-dbf` with the following parameters:\n",
      "- general:scenario = C:\\Users\\ma0026.NB-MA0026\\Documents\\CEA_Projekte\\gebaeudemodelle\\Seestadt_Reihe_ph\n",
      "  (default: {general:project}\\{general:scenario-name})\n",
      "- dbf-tools:input-file = C:\\Users\\ma0026.NB-MA0026\\Downloads\\typologies.csv\n",
      "  (default: )\n",
      "- dbf-tools:output-file-name = typology.dbf\n",
      "  (default: converted_file.dbf)\n",
      "- dbf-tools:output-path = C:\\Users\\ma0026.NB-MA0026\\Documents\\CEA_Projekte\\gebaeudemodelle\\Seestadt_Reihe_ph\\inputs\\building-properties\n",
      "  (default: c:\\Users\\ma0026.NB-MA0026\\Documents\\Code\\ceautil\\ceautil)\n",
      "Execution time: 1.07s\n"
     ]
    },
    {
     "name": "stderr",
     "output_type": "stream",
     "text": [
      "C:\\Users\\ma0026.NB-MA0026\\Documents\\Github\\CityEnergyAnalyst\\cea\\utilities\\dbf.py:80: ParserWarning: Falling back to the 'python' engine because the 'c' engine does not support sep=None with delim_whitespace=False; you can avoid this warning by specifying engine='python'.\n",
      "  df = pd.read_csv(input_file, sep=None)\n"
     ]
    }
   ],
   "source": [
    "!cea dbf-to-csv-to-dbf --scenario \"C:\\Users\\ma0026.NB-MA0026\\Documents\\CEA_Projekte\\gebaeudemodelle\\Seestadt_Reihe_ph\" --input-file \"C:\\Users\\ma0026.NB-MA0026\\Downloads\\typologies.csv\"  --output-file-name \"typology.dbf\" --output-path \"C:\\Users\\ma0026.NB-MA0026\\Documents\\CEA_Projekte\\gebaeudemodelle\\Seestadt_Reihe_ph\\inputs\\building-properties\""
   ]
  },
  {
   "cell_type": "code",
   "execution_count": null,
   "metadata": {},
   "outputs": [],
   "source": []
  },
  {
   "cell_type": "code",
   "execution_count": 45,
   "metadata": {},
   "outputs": [
    {
     "name": "stdout",
     "output_type": "stream",
     "text": [
      "Starting 'archetypes-mapper'...\n",
      "Error running 'archetypes-mapper' script: Command '['cea', 'archetypes-mapper', '--scenario=C:\\\\Users\\\\ma0026.NB-MA0026\\\\Documents\\\\CEA_Projekte\\\\gebaeudemodelle\\\\Seestadt_Reihe']' returned non-zero exit status 1.\n",
      "Starting 'radiation'...\n",
      "Error running 'radiation' script: Command '['cea', 'radiation', '--scenario=C:\\\\Users\\\\ma0026.NB-MA0026\\\\Documents\\\\CEA_Projekte\\\\gebaeudemodelle\\\\Seestadt_Reihe']' returned non-zero exit status 1.\n",
      "Starting 'schedule-maker'...\n",
      "Error running 'schedule-maker' script: Command '['cea', 'schedule-maker', '--scenario=C:\\\\Users\\\\ma0026.NB-MA0026\\\\Documents\\\\CEA_Projekte\\\\gebaeudemodelle\\\\Seestadt_Reihe']' returned non-zero exit status 1.\n",
      "Starting 'demand'...\n",
      "Error running 'demand' script: Command '['cea', 'demand', '--scenario=C:\\\\Users\\\\ma0026.NB-MA0026\\\\Documents\\\\CEA_Projekte\\\\gebaeudemodelle\\\\Seestadt_Reihe']' returned non-zero exit status 1.\n",
      "Starting 'archetypes-mapper'...\n",
      "Error running 'archetypes-mapper' script: Command '['cea', 'archetypes-mapper', '--scenario=C:\\\\Users\\\\ma0026.NB-MA0026\\\\Documents\\\\CEA_Projekte\\\\gebaeudemodelle\\\\Seestadt_Reihe_ph']' returned non-zero exit status 1.\n",
      "Starting 'radiation'...\n",
      "Error running 'radiation' script: Command '['cea', 'radiation', '--scenario=C:\\\\Users\\\\ma0026.NB-MA0026\\\\Documents\\\\CEA_Projekte\\\\gebaeudemodelle\\\\Seestadt_Reihe_ph']' returned non-zero exit status 1.\n",
      "Starting 'schedule-maker'...\n",
      "Error running 'schedule-maker' script: Command '['cea', 'schedule-maker', '--scenario=C:\\\\Users\\\\ma0026.NB-MA0026\\\\Documents\\\\CEA_Projekte\\\\gebaeudemodelle\\\\Seestadt_Reihe_ph']' returned non-zero exit status 1.\n",
      "Starting 'demand'...\n",
      "Error running 'demand' script: Command '['cea', 'demand', '--scenario=C:\\\\Users\\\\ma0026.NB-MA0026\\\\Documents\\\\CEA_Projekte\\\\gebaeudemodelle\\\\Seestadt_Reihe_ph']' returned non-zero exit status 1.\n"
     ]
    }
   ],
   "source": [
    "import subprocess\n",
    "import cea.config\n",
    "import time\n",
    "\n",
    "def run_cea_command(script_name, **kwargs):\n",
    "    \"\"\"Utility function to run a CEA command with optional parameters.\"\"\"\n",
    "    command = [\"cea\", script_name]\n",
    "    for key, value in kwargs.items():\n",
    "        command.append(f\"--{key}={value}\")\n",
    "    \n",
    "    try:\n",
    "        subprocess.run(command, check=True)\n",
    "        print(f\"'{script_name}' script completed successfully.\")\n",
    "    except subprocess.CalledProcessError as e:\n",
    "        print(f\"Error running '{script_name}' script: {e}\")\n",
    "\n",
    "def run_simulation_workflow(scenario_path):\n",
    "    # Step 1: Load and set up the configuration file for the scenario\n",
    "    config = cea.config.Configuration()\n",
    "    config.scenario = scenario_path\n",
    "    #config.weather = weather_file\n",
    "    config.save()\n",
    "    \n",
    "    # Step 2: Run the 'archetypes-mapper' script\n",
    "    print(\"Starting 'archetypes-mapper'...\")\n",
    "    run_cea_command(\"archetypes-mapper\", scenario=scenario_path)\n",
    "\n",
    "    # Step 3: Run 'radiation' and 'schedule-maker' in sequence after 'archetypes-mapper'\n",
    "    print(\"Starting 'radiation'...\")\n",
    "    run_cea_command(\"radiation\", scenario=scenario_path)\n",
    "    \n",
    "    print(\"Starting 'schedule-maker'...\")\n",
    "    run_cea_command(\"schedule-maker\", scenario=scenario_path)\n",
    "\n",
    "    # Step 4: Run the 'demand' script after both previous scripts are completed\n",
    "    print(\"Starting 'demand'...\")\n",
    "    run_cea_command(\"demand\", scenario=scenario_path)\n",
    "\n",
    "# Example usage\n",
    "scenarios = [r\"C:\\Users\\ma0026.NB-MA0026\\Documents\\CEA_Projekte\\gebaeudemodelle\\Seestadt_Reihe\", r\"C:\\Users\\ma0026.NB-MA0026\\Documents\\CEA_Projekte\\gebaeudemodelle\\Seestadt_Reihe_ph\"]\n",
    "#weather_files = [\"Zurich.epw\", \"Berlin.epw\"]\n",
    "\n",
    "for scenario in scenarios:\n",
    "    run_simulation_workflow(scenario)\n"
   ]
  }
 ],
 "metadata": {
  "kernelspec": {
   "display_name": "Python 3",
   "language": "python",
   "name": "python3"
  },
  "language_info": {
   "codemirror_mode": {
    "name": "ipython",
    "version": 3
   },
   "file_extension": ".py",
   "mimetype": "text/x-python",
   "name": "python",
   "nbconvert_exporter": "python",
   "pygments_lexer": "ipython3",
   "version": "3.8.18"
  }
 },
 "nbformat": 4,
 "nbformat_minor": 2
}
